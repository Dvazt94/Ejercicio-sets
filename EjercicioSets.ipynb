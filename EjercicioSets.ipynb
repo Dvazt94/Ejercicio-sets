{
 "cells": [
  {
   "cell_type": "code",
   "execution_count": 6,
   "id": "2aee79e6",
   "metadata": {},
   "outputs": [
    {
     "name": "stdout",
     "output_type": "stream",
     "text": [
      "{'6A6', '4DD', '2DD', '9A9', 'B00', 'C3C', '4CC', '2AA', 'A5A', 'B33', '9DD', '0C0', 'A6A', 'D0D', 'D6D', 'B77', 'D22', '99B', 'C66', '8A8', 'A2A', '6BB', '2A2', 'BB7', '5A5', 'B1B', 'AA0', '33C', '4B4', '5B5', '77B', '7C7', '9AA', '4C4', 'C9C', 'C11', 'A4A', '666', 'B0B', '99D', 'A00', 'C44', '22B', '44B', '999', 'BB4', '8DD', '1C1', '88B', 'AA6', '3B3', 'CC5', '00B', 'A11', 'A99', '6C6', '3AA', 'D4D', 'B7B', '8BB', '11B', '3BB', 'CC1', 'C1C', 'A3A', 'C5C', 'C88', '6B6', 'BB5', '6AA', '5CC', 'DD9', 'B8B', '7CC', 'D88', '4AA', 'D77', '00A', 'C77', 'DD7', 'CC8', 'BB0', 'CC2', '4D4', '8CC', 'A9A', '11C', '66C', 'A7A', 'A33', 'AA3', '99C', '444', '0BB', '22A', 'BB3', 'DDD', 'BB6', '2BB', 'DD1', '1D1', 'B4B', '3A3', '77A', '22D', 'AA4', '9D9', '1BB', 'DD0', 'D33', 'B66', '6DD', 'A8A', 'BB2', 'C8C', 'D44', 'BB8', '5BB', 'AA2', '33B', 'C33', 'A77', '77D', '00D', '77C', 'B99', '6CC', 'B88', 'B9B', 'AAA', 'AA9', 'C7C', '9BB', 'B2B', '5DD', 'B55', '99A', 'D11', 'BB9', '00C', 'DD8', 'AA1', 'CCC', '55C', '55D', '88C', '2CC', '0D0', '3CC', 'C99', '8B8', 'C55', 'D1D', 'D55', '7AA', 'A22', 'AA7', '88D', 'A44', 'A55', 'CC0', 'C4C', '8D8', '000', '1CC', '8C8', '0DD', 'D3D', 'DD5', '66B', '777', 'D2D', '3D3', 'D5D', 'AA8', '55A', '66A', '11D', 'CC3', '22C', '9B9', 'CC7', '0CC', 'CC9', '222', '1AA', 'A0A', '33D', 'A88', '88A', '3DD', 'BBB', '66D', 'B44', 'DD6', 'C6C', '2C2', '0B0', 'B22', '0A0', '333', 'B3B', '555', '1A1', 'A66', '1DD', '7A7', '5C5', 'D9D', '888', '9CC', 'A1A', 'C2C', '1B1', '3C3', 'DD4', 'CC4', '11A', '44D', 'D00', 'B6B', 'D8D', 'CC6', '44A', 'D7D', 'D99', '44C', 'B11', '7BB', '0AA', '55B', 'C0C', '5AA', 'DD2', 'D66', '9C9', '6D6', 'BB1', '2D2', 'B5B', '5D5', '2B2', 'DD3', '4BB', 'C22', '4A4', '7D7', '8AA', 'C00', 'AA5', '111', '33A', '7DD', '7B7'}\n"
     ]
    }
   ],
   "source": [
    "numbers = ['0', '1', '2', '3', '4', '5', '6', '7', '8', '9']\n",
    "letters = ['A', 'B', 'C', 'D']\n",
    "\n",
    "\n",
    "unique_combinations = set()\n",
    "for number in numbers:\n",
    "    for letter in letters:\n",
    "        unique_combinations.add(\"{}{}{}\".format(number,number,number))\n",
    "        unique_combinations.add(\"{}{}{}\".format(number,number,letter))\n",
    "        unique_combinations.add(\"{}{}{}\".format(number,letter,number))\n",
    "        unique_combinations.add(\"{}{}{}\".format(number,letter,letter))\n",
    "        unique_combinations.add(\"{}{}{}\".format(letter,number,number))\n",
    "        unique_combinations.add(\"{}{}{}\".format(letter,letter,number))\n",
    "        unique_combinations.add(\"{}{}{}\".format(letter,number,letter))\n",
    "        unique_combinations.add(\"{}{}{}\".format(letter,letter,letter))\n",
    "        \n",
    "print(unique_combinations)\n",
    "        "
   ]
  },
  {
   "cell_type": "code",
   "execution_count": null,
   "id": "ada0ed47",
   "metadata": {},
   "outputs": [],
   "source": []
  }
 ],
 "metadata": {
  "kernelspec": {
   "display_name": "Python 3 (ipykernel)",
   "language": "python",
   "name": "python3"
  },
  "language_info": {
   "codemirror_mode": {
    "name": "ipython",
    "version": 3
   },
   "file_extension": ".py",
   "mimetype": "text/x-python",
   "name": "python",
   "nbconvert_exporter": "python",
   "pygments_lexer": "ipython3",
   "version": "3.11.7"
  }
 },
 "nbformat": 4,
 "nbformat_minor": 5
}
